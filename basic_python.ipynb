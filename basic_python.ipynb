{
  "nbformat": 4,
  "nbformat_minor": 0,
  "metadata": {
    "colab": {
      "provenance": []
    },
    "kernelspec": {
      "name": "python3",
      "display_name": "Python 3"
    },
    "language_info": {
      "name": "python"
    }
  },
  "cells": [
    {
      "cell_type": "markdown",
      "source": [
        "**basic questions**"
      ],
      "metadata": {
        "id": "D3aD3YdNUbuS"
      }
    },
    {
      "cell_type": "markdown",
      "source": [
        "1 What is Python, and why is it popular?\n",
        "  -python is high level programming language,which is used to interpret with the computer.It is popular for its high execution speed, simplicity and readble language.\n",
        "\n",
        "2 What is an interpreter in Python ?\n",
        "  -an interpreter in python is reffered as a program which reads and executes the code.\n",
        "\n",
        "3 What are pre-defined keywords in Python?\n",
        "  -predefined keyword in python are some specific words that holds special meaning and have specific purpose.\n",
        "\n",
        "4 Can keywords be used as variable names?\n",
        "  -No\n",
        "\n",
        "5 What is mutability in Python?\n",
        "  -mutabilty means changeable, which means that after creation of an element it can be changed.\n",
        "\n",
        "6 Why are lists mutable, but tuples are immutable?\n",
        "  -lists are mutable because they are enclosed in square bracket which means that items of the list are accesible,but in tuple they are enclosed in paranthesis which means that the items of the tuple are not accesible hence they are immutable.\n",
        "\n",
        "7 What is the difference between “==” and “is” operators in Python\n",
        "  -In Python the == operator compares the objects that the object is equivalent to the other object, while the 'is' operator compares the identity of objects.\n",
        "\n",
        "8 What are logical operators in Python ?\n",
        "  -Python have three logical operators- and, or, and not. These operators, also known as Boolean operators, evaluate multiple conditions and determine an expression's overall truth value.\n",
        "\n",
        "9 What is type casting in Python?\n",
        "  -Typecasting is the procces of converting the datatype of the variable.\n",
        "\n",
        "10 What is the difference between implicit and explicit type casting\n",
        "  -Implicit type casting happens automatically when converting data types, while explicit type casting requires a manual instruction from the programmer to convert a value from one type to another.\n",
        "\n",
        "11 What is the purpose of conditional statements in Python?\n",
        "  -We have different types of conditional statements like if, if-else, elif, nested if, and nested if-else statements which control the execution of our program.\n",
        "\n",
        "12 How does the elif statement work?\n",
        "  -if the first condition is false, it moves on to the next “elif” statement to check if that condition is true.\n",
        "\n",
        "13 What is the difference between for and while loops?\n",
        "  -The difference between for loop and while loop is that for loop is used when the number of iterations is known, whereas execution is done in a while loop until the statement in the program is proved wrong.\n",
        "\n",
        "14 Describe a scenario where a while loop is more suitable than a for loop.\n",
        "   -while loop is particularly useful when you do not know beforehand how many times you want to repeat the execution of your code. It will keep executing as long as a specified condition is true. This makes it ideal for cases where you want to continue looping until specific criteria are met."
      ],
      "metadata": {
        "id": "dveDpHCTK541"
      }
    },
    {
      "cell_type": "markdown",
      "source": [
        "**practical questions**"
      ],
      "metadata": {
        "id": "MWrZXk8KK1xu"
      }
    },
    {
      "cell_type": "code",
      "source": [
        "# Write a Python program to print \"Hello, World!\n",
        "print(\"Hello,World\")"
      ],
      "metadata": {
        "id": "n5E--aaFePtJ",
        "colab": {
          "base_uri": "https://localhost:8080/"
        },
        "outputId": "49336eba-740e-41d7-8021-b5de2b064d2a"
      },
      "execution_count": 27,
      "outputs": [
        {
          "output_type": "stream",
          "name": "stdout",
          "text": [
            "Hello,World\n"
          ]
        }
      ]
    },
    {
      "cell_type": "code",
      "source": [
        "#  Write a Python program that displays your name and age\n",
        "print(\"My name is Shrushti Dongre\")\n",
        "print(\"I am 20 year old\")"
      ],
      "metadata": {
        "colab": {
          "base_uri": "https://localhost:8080/"
        },
        "id": "lhgvnzSGVa10",
        "outputId": "bb2eeaba-916b-43e8-eb53-4e34ee421f67"
      },
      "execution_count": null,
      "outputs": [
        {
          "output_type": "stream",
          "name": "stdout",
          "text": [
            "My name is Shrushti Dongre\n",
            "I am 20 year old\n"
          ]
        }
      ]
    },
    {
      "cell_type": "code",
      "source": [
        "#  Write code to print all the pre-defined keywords in Python using the keyword library\n",
        "import keyword\n",
        "\n",
        "# Print all Python keywords\n",
        "print(keyword.kwlist)\n"
      ],
      "metadata": {
        "id": "S1OHpmHxYpUf",
        "colab": {
          "base_uri": "https://localhost:8080/"
        },
        "outputId": "856bf8a5-5f59-4e6e-c6ee-54d5b8d9a3d5"
      },
      "execution_count": 26,
      "outputs": [
        {
          "output_type": "stream",
          "name": "stdout",
          "text": [
            "['False', 'None', 'True', 'and', 'as', 'assert', 'async', 'await', 'break', 'class', 'continue', 'def', 'del', 'elif', 'else', 'except', 'finally', 'for', 'from', 'global', 'if', 'import', 'in', 'is', 'lambda', 'nonlocal', 'not', 'or', 'pass', 'raise', 'return', 'try', 'while', 'with', 'yield']\n"
          ]
        }
      ]
    },
    {
      "cell_type": "code",
      "source": [
        "#8 Write a program that checks if a given word is a Python keyword.\n",
        "import keyword\n",
        "\n",
        "word = input(\"Enter a word: \")\n",
        "\n",
        "if keyword.iskeyword(word):  # Directly checks if the word is a keyword\n",
        "    print(f\"'{word}' is a Python keyword.\")\n",
        "else:\n",
        "    print(f\"'{word}' is not a Python keyword.\")"
      ],
      "metadata": {
        "id": "geNxrEVDcwL9",
        "colab": {
          "base_uri": "https://localhost:8080/"
        },
        "outputId": "e3fb6d7c-0621-4fff-e9fd-8e1ef7837793"
      },
      "execution_count": 25,
      "outputs": [
        {
          "output_type": "stream",
          "name": "stdout",
          "text": [
            "Enter a word: try\n",
            "'try' is a Python keyword.\n"
          ]
        }
      ]
    },
    {
      "cell_type": "code",
      "source": [
        "# Write a program that performs basic arithmetic operations on two user-input numbers\n",
        "\n",
        "num_1 = int(input(\"Enter you 1st number..\"))\n",
        "num_2 = int(input(\"Enter your 2nd number..\"))\n",
        "\n",
        "add = num_1+num_2\n",
        "sub = num_1-num_2\n",
        "multi = num_1+num_2\n",
        "divide = num_1+num_2\n",
        "\n",
        "print(add)\n",
        "print(sub)\n",
        "print(multi)\n",
        "print(divide)"
      ],
      "metadata": {
        "id": "0Bq5wQNgeGCm",
        "colab": {
          "base_uri": "https://localhost:8080/"
        },
        "outputId": "c18147c0-6706-425c-9305-537669b129e3"
      },
      "execution_count": 24,
      "outputs": [
        {
          "output_type": "stream",
          "name": "stdout",
          "text": [
            "Enter you 1st number..8\n",
            "Enter your 2nd number..7\n",
            "15\n",
            "1\n",
            "15\n",
            "15\n"
          ]
        }
      ]
    },
    {
      "cell_type": "code",
      "source": [
        "# Write a program to demonstrate the use of logical operators.\n",
        "a = \"apple\"\n",
        "b = \"boy\""
      ],
      "metadata": {
        "id": "Rne85wvefLgp"
      },
      "execution_count": null,
      "outputs": []
    },
    {
      "cell_type": "code",
      "source": [
        "# Create a list and tuple in Python, and demonstrate how attempting to change an element works differently for each\n",
        "list_1 = [\"apple\",\"boy\",\"cat\",\"dog\",\"elephant\"]\n",
        "print(list_1)\n",
        "print(list_1[0])\n",
        "print(list_1[1])\n",
        "print(list_1[2])\n",
        "print(list_1[3])\n",
        "print(list_1[4])\n"
      ],
      "metadata": {
        "id": "ReOOPfsYmZbq",
        "colab": {
          "base_uri": "https://localhost:8080/"
        },
        "outputId": "b315617b-1ef4-4cb4-8a09-6fa271fe0ec9"
      },
      "execution_count": 28,
      "outputs": [
        {
          "output_type": "stream",
          "name": "stdout",
          "text": [
            "['apple', 'boy', 'cat', 'dog', 'elephant']\n",
            "apple\n",
            "boy\n",
            "cat\n",
            "dog\n",
            "elephant\n"
          ]
        }
      ]
    },
    {
      "cell_type": "code",
      "source": [
        "# Write a Python program to convert user input from string to integer, float, and boolean types.\n",
        "a_1 = input(\"Enter whatever you want....\")\n",
        "# type(a_1)\n",
        "type(int(a_1))\n",
        "type(float(a_1))\n",
        "type(bool(a_1))\n"
      ],
      "metadata": {
        "id": "3nZlDFiRnro4",
        "colab": {
          "base_uri": "https://localhost:8080/"
        },
        "outputId": "6c8ed127-9d45-4197-e417-f4b04978cc01"
      },
      "execution_count": 22,
      "outputs": [
        {
          "name": "stdout",
          "output_type": "stream",
          "text": [
            "Enter whatever you want....88\n"
          ]
        },
        {
          "output_type": "execute_result",
          "data": {
            "text/plain": [
              "int"
            ]
          },
          "metadata": {},
          "execution_count": 22
        }
      ]
    },
    {
      "cell_type": "code",
      "source": [
        "# Write code to demonstrate type casting with list elements\n",
        "list_2 = [\"apple\",\"56\",\"cat\",\"dog\",\"9.8\",\"fish\",\"gun\"]\n",
        "int(list_2[1])\n",
        "type(int(list_2[1]))\n",
        "float(list_2[4])\n",
        "type(float(list_2[4]))"
      ],
      "metadata": {
        "id": "t54dW54zowzg",
        "colab": {
          "base_uri": "https://localhost:8080/"
        },
        "outputId": "0dc46e0c-2d24-432b-ba39-3d59da8e00be"
      },
      "execution_count": 18,
      "outputs": [
        {
          "output_type": "execute_result",
          "data": {
            "text/plain": [
              "float"
            ]
          },
          "metadata": {},
          "execution_count": 18
        }
      ]
    },
    {
      "cell_type": "code",
      "source": [
        "# Write a program that checks if a number is positive, negative, or zero.\n",
        "value = int(input(\"Enter your number..\"))\n",
        "\n",
        "if value == 0:\n",
        "  print(\"your number zero\")\n",
        "elif value > 0:\n",
        "  print(\"your number is positive\")\n",
        "else:\n",
        "  print(\"you number is negative\")\n"
      ],
      "metadata": {
        "colab": {
          "base_uri": "https://localhost:8080/"
        },
        "id": "MnLQ7FrCqf57",
        "outputId": "fa4c7774-5069-4656-b7bd-d5e98f1a27da"
      },
      "execution_count": 14,
      "outputs": [
        {
          "output_type": "stream",
          "name": "stdout",
          "text": [
            "Enter your number..66\n",
            "your number is positive\n"
          ]
        }
      ]
    },
    {
      "cell_type": "code",
      "source": [
        "# Write a for loop to print numbers from 1 to 10.\n",
        "for i in range(0,11):\n",
        "   print(i)"
      ],
      "metadata": {
        "colab": {
          "base_uri": "https://localhost:8080/"
        },
        "id": "Dl_2kRdnqlZP",
        "outputId": "a0d004cd-0aa2-4cd9-dc08-471fc5b224eb"
      },
      "execution_count": 9,
      "outputs": [
        {
          "output_type": "stream",
          "name": "stdout",
          "text": [
            "0\n",
            "1\n",
            "2\n",
            "3\n",
            "4\n",
            "5\n",
            "6\n",
            "7\n",
            "8\n",
            "9\n",
            "10\n"
          ]
        }
      ]
    },
    {
      "cell_type": "code",
      "source": [
        "# Write a Python program to find the sum of all even numbers between 1 and 50.\n",
        "sum_even = 0\n",
        "\n",
        "for num in range(1,51):\n",
        "  if num % 2 == 0:\n",
        "    sum_even += num\n",
        "\n",
        "print(sum_even)"
      ],
      "metadata": {
        "colab": {
          "base_uri": "https://localhost:8080/"
        },
        "id": "8YaI5oSltYw-",
        "outputId": "119ef32e-5c20-452c-c7b9-f02aa1eca3ab"
      },
      "execution_count": 33,
      "outputs": [
        {
          "output_type": "stream",
          "name": "stdout",
          "text": [
            "650\n"
          ]
        }
      ]
    },
    {
      "cell_type": "code",
      "source": [
        "# Write a program to reverse a string using a while loop.\n",
        "\n",
        "text = input(\"Enter a string: \")\n",
        "\n",
        "reversed_text = \"\"\n",
        "index = len(text) - 1\n",
        "\n",
        "while index >= 0:\n",
        "    reversed_text += text[index]\n",
        "    index -= 1\n",
        "\n",
        "print(\"Reversed string:\", reversed_text)"
      ],
      "metadata": {
        "colab": {
          "base_uri": "https://localhost:8080/"
        },
        "id": "QFJ5krqswCUv",
        "outputId": "82bb1d81-1b5b-428a-d4a7-c1a50af7de1d"
      },
      "execution_count": 34,
      "outputs": [
        {
          "output_type": "stream",
          "name": "stdout",
          "text": [
            "Enter a string: shrushti\n",
            "Reversed string: ithsurhs\n"
          ]
        }
      ]
    },
    {
      "cell_type": "code",
      "source": [
        "# Write a Python program to calculate the factorial of a number provided by the user using a while loop.\n",
        "num = int(input(\"Enter a number: \"))\n",
        "factorial = 1\n",
        "\n",
        "n = num\n",
        "\n",
        "while n > 0:\n",
        "    factorial *= n\n",
        "    n -= 1\n",
        "\n",
        "print(f\"Factorial of {num} is: {factorial}\")"
      ],
      "metadata": {
        "colab": {
          "base_uri": "https://localhost:8080/"
        },
        "id": "Wz8-kg3qzqoI",
        "outputId": "2d707dcb-2cf3-41f2-b53f-413725003a76"
      },
      "execution_count": 35,
      "outputs": [
        {
          "output_type": "stream",
          "name": "stdout",
          "text": [
            "Enter a number: 7\n",
            "Factorial of 7 is: 5040\n"
          ]
        }
      ]
    },
    {
      "cell_type": "code",
      "source": [],
      "metadata": {
        "id": "nnvyHNmI0QaR"
      },
      "execution_count": null,
      "outputs": []
    }
  ]
}